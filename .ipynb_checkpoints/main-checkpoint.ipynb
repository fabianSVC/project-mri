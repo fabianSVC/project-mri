{
 "cells": [
  {
   "cell_type": "code",
   "execution_count": 1,
   "id": "9d459c74",
   "metadata": {},
   "outputs": [],
   "source": [
    "import nibabel as nb\n",
    "import matplotlib.pyplot as plt\n",
    "import numpy as np\n",
    "import cv2\n",
    "from time import time"
   ]
  },
  {
   "cell_type": "code",
   "execution_count": null,
   "id": "6a89c186",
   "metadata": {},
   "outputs": [],
   "source": []
  },
  {
   "cell_type": "code",
   "execution_count": 6,
   "id": "67f52adb",
   "metadata": {},
   "outputs": [],
   "source": [
    "data_dir = 'MRIsamples/'\n",
    "data_dir_save = data_dir + 'analyze_to_nii/'\n",
    "data_ext = ['.img', '.hdr', '.nii']\n",
    "filenames = ['4_8', '8_4', '100_23', '205_3']"
   ]
  },
  {
   "cell_type": "markdown",
   "id": "01857d1d",
   "metadata": {},
   "source": [
    "Segunda Entrega"
   ]
  },
  {
   "cell_type": "code",
   "execution_count": 7,
   "id": "1fa539e7",
   "metadata": {},
   "outputs": [
    {
     "name": "stdout",
     "output_type": "stream",
     "text": [
      "(58, 58)\n"
     ]
    },
    {
     "data": {
      "image/png": "[encoded data removed]",
      "text/plain": [
       "<Figure size 432x288 with 1 Axes>"
      ]
     },
     "metadata": {
      "needs_background": "light"
     },
     "output_type": "display_data"
    }
   ],
   "source": [
    "path = data_dir_save + 'filename' + data_ext[2]\n",
    "\n",
    "#Se cargan las imagenes en formato NIFTI\n",
    "img_4_8 = nb.load(path.replace('filename', filenames[0]))\n",
    "img_8_4 = nb.load(path.replace('filename', filenames[1]))\n",
    "img_100_23 = nb.load(path.replace('filename', filenames[2]))\n",
    "img_205_3 = nb.load(path.replace('filename', filenames[3]))\n",
    "\n",
    "#se extrae un corte de la imagen 4_8\n",
    "img1 = img_4_8.get_fdata()\n",
    "img1 = img1[150,:,:][:,:,0]\n",
    "#img1 = img1[0:58,92:210]\n",
    "#img1 = img1[30:40,200:210]\n",
    "img1 = img1[0:58,100:158]\n",
    "print(img1.shape)\n",
    "\n",
    "plt.imshow(img1, cmap='gray')\n",
    "plt.show()"
   ]
  },
  {
   "cell_type": "markdown",
   "id": "289c4e10",
   "metadata": {},
   "source": [
    "difusión anisotrópica - explicita"
   ]
  },
  {
   "cell_type": "code",
   "execution_count": 278,
   "id": "cec43fca",
   "metadata": {},
   "outputs": [],
   "source": [
    "def anisotropic_diffusion(img, v=1, k=0.6):\n",
    "    t = -1/4#1 / (1 + (2 * v + 1))\n",
    "    i = j = v\n",
    "    \n",
    "    convolvedImg = np.zeros((img.shape[0], img.shape[1]))\n",
    "\n",
    "    for f in range(convolvedImg.shape[0]):\n",
    "        for c in range(convolvedImg.shape[1]):\n",
    "            mat = mask(img, f, c, v)\n",
    "            \n",
    "            #mgfe = mod_grad_f(mat, j, i + 1, 'fe')\n",
    "            #cfe = diff_coef(mgfe, k)\n",
    "            #fe = cfe * (mat[j, i + 1] - mat[j, i])\n",
    "            \n",
    "            #mgfw = mod_grad_f(mat, j, i - 1, 'fw')\n",
    "            #cfw = diff_coef(mgfw, k)\n",
    "            #fw = cfw * (mat[j, i] - mat[j, i - 1])\n",
    "            \n",
    "            #mgfs = mod_grad_f(mat, j + 1, i, 'fs')\n",
    "            #cfs = diff_coef(mgfs, k)\n",
    "            #fs = cfs * (mat[j + 1, i] - mat[j, i])\n",
    "            \n",
    "            #mgfn = mod_grad_f(mat, j - 1, i, 'fn')\n",
    "            #cfn = diff_coef(mgfn, k)\n",
    "            #fn = cfn * (mat[j, i] - mat[j - 1, i])\n",
    "  \n",
    "            convolvedImg[f, c] = t * (mat[j, i + 1] + mat[j, i - 1] + mat[j + 1, i] + mat[j - 1, i])#(fe - fw + fs - fn)\n",
    "    \n",
    "    return convolvedImg\n",
    "\n",
    "def mask(img, j, i, v):\n",
    "    n = 2 * v + 1\n",
    "    mat = np.full((n, n), -1)\n",
    "    \n",
    "    jmin = (j - v, 0)[(j - v) < 0]\n",
    "    jmax = (jmin + n, jmin + (n - 1))[(j + v) == img.shape[0] or (j - v) < 0]\n",
    "    \n",
    "    imin = (i - v, 0)[(i - v) < 0]\n",
    "    imax = (imin + n, imin + (n - 1))[(i + v) == img.shape[1] or (i - v) < 0]\n",
    "    \n",
    "    f = (0, 1)[(j - v) < 0]\n",
    "    c1 = (0, 1)[(i - v) < 0]\n",
    "    \n",
    "    for j in range(jmin, jmax):\n",
    "        c = c1\n",
    "        \n",
    "        for i in range(imin, imax):\n",
    "            mat[f, c] = img[j, i]\n",
    "            c += 1\n",
    "            \n",
    "        f += 1\n",
    "            \n",
    "    return mat\n",
    "\n",
    "def mod_grad_f(img, j, i, f):\n",
    "    mgf = 0\n",
    "\n",
    "    if(f == 'fe'):#1,2\n",
    "        mgf = pow(img[j, i] - img[j, i - 1], 2) + pow((img[j + 1, i] - img[j - 1, i]) / 2, 2)\n",
    "    elif(f == 'fw'):#1,0\n",
    "        mgf = pow(img[j, i + 1] - img[j, i], 2)#pow(img[j, i + 1] - img[j, i], 2) + pow((img[j + 1, i] - img[j - 1, i]) / 2, 2) \n",
    "    elif(f == 'fs'):#2,1\n",
    "        mgf = pow(img[j, i] - img[j - 1, i], 2)#pow((img[j, i + 1] - img[j, i - 1]) / 2, 2) + pow(img[j, i] - img[j - 1, i], 2)\n",
    "    else:#'fn':0,1\n",
    "        mgf = pow(img[j + 1, i] - img[j, i], 2)#pow((img[j, i + 1] - img[j, i - 1]) / 2, 2) + pow(img[j + 1, i] - img[j, i], 2)\n",
    "    \n",
    "    return np.sqrt(mgf)\n",
    "\n",
    "def diff_coef(mgf, k):\n",
    "    return np.exp(-pow(mgf / k, 2))"
   ]
  },
  {
   "cell_type": "code",
   "execution_count": 280,
   "id": "d154a44e",
   "metadata": {
    "scrolled": true
   },
   "outputs": [
    {
     "data": {
      "image/png": "[encoded data removed]",
      "text/plain": [
       "<Figure size 432x288 with 1 Axes>"
      ]
     },
     "metadata": {
      "needs_background": "light"
     },
     "output_type": "display_data"
    },
    {
     "data": {
      "image/png": "[encoded data removed]",
      "text/plain": [
       "<Figure size 432x288 with 1 Axes>"
      ]
     },
     "metadata": {
      "needs_background": "light"
     },
     "output_type": "display_data"
    }
   ],
   "source": [
    "#plt.figure(figsize=(4,4))\n",
    "plt.imshow(img1, cmap='gray')\n",
    "plt.show()\n",
    "\n",
    "im1 = anisotropic_diffusion(img1)\n",
    "\n",
    "plt.imshow(im1, cmap='gray')\n",
    "plt.show()\n",
    "\n",
    "#plt.imshow(anisotropic_diffusion(img1, 1, 0.6), cmap='gray')\n",
    "#plt.show()\n",
    "\n",
    "#plt.imshow(anisotropic_diffusion(img1, 1, 1), cmap='gray')\n",
    "#plt.show()\n",
    "\n",
    "#plt.imshow(anisotropic_diffusion(img1, 1, 2), cmap='gray')\n",
    "#plt.show()\n",
    "\n",
    "#plt.imshow(anisotropic_diffusion(img1, 1, 3), cmap='gray')\n",
    "#plt.show()"
   ]
  },
  {
   "cell_type": "code",
   "execution_count": 309,
   "id": "b578f493",
   "metadata": {},
   "outputs": [],
   "source": [
    "def create_A_x_b(img):\n",
    "    m = img.shape[0] * img.shape[1]\n",
    "    A = np.identity(m)\n",
    "    x = np.array([img.flatten()]).T\n",
    "    b = np.zeros((m , 1))\n",
    "    i = 1\n",
    "    \n",
    "    for f in range(m - 1):\n",
    "        c1 = f + 1\n",
    "        c2 = f + img.shape[1]\n",
    "        \n",
    "        if(i < img.shape[1]):\n",
    "            A[f, c1] = -1/4\n",
    "            A[c1, f] = -1/4\n",
    "            \n",
    "            if(c2 < (m - img.shape[1])):\n",
    "                A[f, c2] = -1/4\n",
    "                A[c2, f] = -1/4\n",
    "            \n",
    "            i += 1\n",
    "        else:\n",
    "            A[f, c2] = -1/4\n",
    "            A[c2, f] = -1/4\n",
    "            i = 1\n",
    "    \n",
    "    return A,x,b\n",
    "\n",
    "\n",
    "def jacobi_method(A, x, b, maxit, tol):\n",
    "    def create_diagonal_matrix(mat):\n",
    "        rows, columns = mat.shape\n",
    "        new_mat = np.zeros((rows, columns))\n",
    "        \n",
    "        for i in range(new_mat.shape[0]):\n",
    "            new_mat[i,i] = mat[i,i]\n",
    "            \n",
    "        return new_mat\n",
    "    \n",
    "    I = np.identity(A.shape[0])\n",
    "    Q = create_diagonal_matrix(A)\n",
    "    Q_inv = np.linalg.inv(Q)\n",
    "    \n",
    "    x_k_anterior = x\n",
    "    count = 0\n",
    "    \n",
    "    while(count < maxit):\n",
    "        x = np.dot(I - np.dot(Q_inv, A), x_k_anterior) + np.dot(Q_inv, b) # Aplicando método de Jacobi\n",
    "        x_k_anterior = x\n",
    "        count = count + 1\n",
    "  \n",
    "    return x\n",
    "\n",
    "def x_to_img(h, w, x):\n",
    "    i = j = 0\n",
    "    \n",
    "    img = np.zeros((h, w))\n",
    "    \n",
    "    for f in range(x.shape[0]):\n",
    "        img[j, i] = x[f, 0]\n",
    "        i = i + 1\n",
    "        \n",
    "        if i == w:\n",
    "            i = 0\n",
    "            j = j + 1\n",
    "    \n",
    "    return img"
   ]
  },
  {
   "cell_type": "code",
   "execution_count": 303,
   "id": "3f6843fe",
   "metadata": {},
   "outputs": [],
   "source": [
    "A,x,b = create_A_x_b(img1)\n",
    "\n",
    "s_x = jacobi_method(A, x, b, 1, 0.1)"
   ]
  },
  {
   "cell_type": "code",
   "execution_count": 317,
   "id": "f682fadc",
   "metadata": {},
   "outputs": [
    {
     "data": {
      "image/png": "[encoded data removed]",
      "text/plain": [
       "<Figure size 432x288 with 1 Axes>"
      ]
     },
     "metadata": {
      "needs_background": "light"
     },
     "output_type": "display_data"
    },
    {
     "data": {
      "image/png": "[encoded data removed]",
      "text/plain": [
       "<Figure size 432x288 with 1 Axes>"
      ]
     },
     "metadata": {
      "needs_background": "light"
     },
     "output_type": "display_data"
    }
   ],
   "source": [
    "img5 = x_to_img(img1.shape[0], img1.shape[1], s_x)\n",
    "\n",
    "#plt.figure(figsize=(1,1))\n",
    "plt.imshow(img1, cmap='gray')\n",
    "plt.show()\n",
    "\n",
    "#plt.figure(figsize=(1,1))\n",
    "plt.imshow(img5, cmap='gray')\n",
    "plt.show()"
   ]
  },
  {
   "cell_type": "code",
   "execution_count": 310,
   "id": "3ad5fa77",
   "metadata": {},
   "outputs": [
    {
     "name": "stdout",
     "output_type": "stream",
     "text": [
      "[[1 1]\n",
      " [1 1]\n",
      " [1 1]]\n",
      "[[ 1.   -0.25 -0.25  0.    0.    0.  ]\n",
      " [-0.25  1.    0.   -0.25  0.    0.  ]\n",
      " [-0.25  0.    1.   -0.25  0.    0.  ]\n",
      " [ 0.   -0.25 -0.25  1.    0.   -0.25]\n",
      " [ 0.    0.    0.    0.    1.   -0.25]\n",
      " [ 0.    0.    0.   -0.25 -0.25  1.  ]]\n"
     ]
    }
   ],
   "source": [
    "matrix = np.full((3, 2), 1)\n",
    "\n",
    "A,x,b = create_A_x_b(matrix)\n",
    "\n",
    "\n",
    "print(matrix)\n",
    "print(A)"
   ]
  },
  {
   "cell_type": "code",
   "execution_count": null,
   "id": "39ee41a8",
   "metadata": {},
   "outputs": [],
   "source": [
    "from time import time\n",
    "def count_elapsed_time(f):\n",
    "    \"\"\"\n",
    "    Decorator.\n",
    "    Execute the function and calculate the elapsed time.\n",
    "    Print the result to the standard output.\n",
    "    \"\"\"\n",
    "    def wrapper():\n",
    "        # Start counting.\n",
    "        start_time = time()\n",
    "        # Take the original function's return value.\n",
    "        ret = f()\n",
    "        # Calculate the elapsed time.\n",
    "        elapsed_time = time() - start_time\n",
    "        print(\"Elapsed time: %0.10f seconds.\" % elapsed_time)\n",
    "        return ret\n",
    "    \n",
    "    return wrapper"
   ]
  },
  {
   "cell_type": "code",
   "execution_count": null,
   "id": "0b34d15a",
   "metadata": {},
   "outputs": [],
   "source": [
    "@count_elapsed_time\n",
    "\n",
    "def test():\n",
    "    A,x,b = create_A_x_b(img1)\n",
    "    \n",
    "    return gauss_seidel(A,x,b)\n",
    "\n",
    "test()"
   ]
  },
  {
   "cell_type": "code",
   "execution_count": null,
   "id": "3d505e9e",
   "metadata": {},
   "outputs": [],
   "source": [
    "def gauss_seidel(A, X, B):\n",
    "    tolera = 0.1\n",
    "    iteramax = 1\n",
    "\n",
    "    tamano = np.shape(A)\n",
    "    n = tamano[0]\n",
    "    m = tamano[1]\n",
    "    \n",
    "    #  valores iniciales\n",
    "    diferencia = np.ones(n, dtype=float)\n",
    "    errado = 2*tolera\n",
    "\n",
    "    itera = 0\n",
    "    while not(errado<=tolera or itera>iteramax):\n",
    "        # por fila\n",
    "        for i in range(0,n,1):\n",
    "            # por columna\n",
    "            suma = 0 \n",
    "            for j in range(0,m,1):\n",
    "                # excepto diagonal de A\n",
    "                if (i!=j): \n",
    "                    suma = suma-A[i,j]*X[j]\n",
    "\n",
    "            nuevo = (B[i]+suma)/A[i,i]\n",
    "            diferencia[i] = np.abs(nuevo-X[i])\n",
    "            X[i] = nuevo\n",
    "        errado = np.max(diferencia)\n",
    "        itera = itera + 1\n",
    "\n",
    "    # Respuesta X en columna\n",
    "    #X = np.transpose([X])\n",
    "\n",
    "    # revisa si NO converge\n",
    "    #if (itera>iteramax):\n",
    "        #X=0\n",
    "    # revisa respuesta\n",
    "    verifica = np.dot(A,X)\n",
    "    \n",
    "    return verifica"
   ]
  }
 ],
 "metadata": {
  "kernelspec": {
   "display_name": "Python 3 (ipykernel)",
   "language": "python",
   "name": "python3"
  },
  "language_info": {
   "codemirror_mode": {
    "name": "ipython",
    "version": 3
   },
   "file_extension": ".py",
   "mimetype": "text/x-python",
   "name": "python",
   "nbconvert_exporter": "python",
   "pygments_lexer": "ipython3",
   "version": "3.9.7"
  }
 },
 "nbformat": 4,
 "nbformat_minor": 5
}
